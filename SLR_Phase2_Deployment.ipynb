{
 "cells": [
  {
   "cell_type": "code",
   "execution_count": 3,
   "id": "8cbff448-29a4-44da-a06e-35eaff59ed86",
   "metadata": {},
   "outputs": [
    {
     "name": "stderr",
     "output_type": "stream",
     "text": [
      "C:\\Anaconda3\\Lib\\site-packages\\sklearn\\base.py:493: UserWarning: X does not have valid feature names, but LinearRegression was fitted with feature names\n",
      "  warnings.warn(\n"
     ]
    },
    {
     "data": {
      "text/plain": [
       "array([[195262.09449268]])"
      ]
     },
     "execution_count": 3,
     "metadata": {},
     "output_type": "execute_result"
    }
   ],
   "source": [
    "import pickle\n",
    "loadmodel=pickle.load(open(\"final_model_linear.sav\",\"rb\")) #load the file to pass the user input\n",
    "loadmodel.predict([[18]]) #To get the pridicted output from our finalized model."
   ]
  },
  {
   "cell_type": "code",
   "execution_count": null,
   "id": "b6382ac4-94a2-44f1-a5a3-b6e736124338",
   "metadata": {},
   "outputs": [],
   "source": []
  }
 ],
 "metadata": {
  "kernelspec": {
   "display_name": "Python 3 (ipykernel)",
   "language": "python",
   "name": "python3"
  },
  "language_info": {
   "codemirror_mode": {
    "name": "ipython",
    "version": 3
   },
   "file_extension": ".py",
   "mimetype": "text/x-python",
   "name": "python",
   "nbconvert_exporter": "python",
   "pygments_lexer": "ipython3",
   "version": "3.12.7"
  }
 },
 "nbformat": 4,
 "nbformat_minor": 5
}
